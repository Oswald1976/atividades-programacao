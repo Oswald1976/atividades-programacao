{
 "cells": [
  {
   "cell_type": "markdown",
   "id": "5d937ea0",
   "metadata": {},
   "source": [
    "# Data Science Academy"
   ]
  },
  {
   "cell_type": "markdown",
   "id": "26198935",
   "metadata": {},
   "source": [
    "## Fundamentos da Linguagem Python para Análise de Dados e Data Science"
   ]
  },
  {
   "cell_type": "markdown",
   "id": "217146e9",
   "metadata": {},
   "source": [
    "### Capítulo 6 - Função Filter"
   ]
  },
  {
   "cell_type": "code",
   "execution_count": 2,
   "id": "53212b61",
   "metadata": {},
   "outputs": [
    {
     "name": "stdout",
     "output_type": "stream",
     "text": [
      "Versão da Linguyagem Python usada neste Jupyter notebook 3.11.5\n"
     ]
    }
   ],
   "source": [
    "# Versão da Linguagem Python\n",
    "from platform import python_version\n",
    "print(\"Versão da Linguyagem Python usada neste Jupyter notebook\", python_version())"
   ]
  },
  {
   "cell_type": "markdown",
   "id": "05ece0fd",
   "metadata": {},
   "source": [
    "## Função Filter"
   ]
  },
  {
   "cell_type": "markdown",
   "id": "f584c17a",
   "metadata": {},
   "source": [
    "A função filter() em Python é uma função que filtra elementos de uma estrutura de dados iterável (como uma lista, tupla ou outro objeto iterável) como base em uma determinada condição. A Função Filter() retorna um objetivo filtro, que pode ser convertido em outra estrutura de dados, como uma lista, se necessário."
   ]
  },
  {
   "cell_type": "code",
   "execution_count": 3,
   "id": "3a85d252",
   "metadata": {},
   "outputs": [],
   "source": [
    "# Criando uma função\n",
    "def verificapar(num):\n",
    "    if num % 2 == 0:\n",
    "        return True\n",
    "    else:\n",
    "        return False"
   ]
  },
  {
   "cell_type": "code",
   "execution_count": 4,
   "id": "7abf51db",
   "metadata": {},
   "outputs": [
    {
     "data": {
      "text/plain": [
       "False"
      ]
     },
     "execution_count": 4,
     "metadata": {},
     "output_type": "execute_result"
    }
   ],
   "source": [
    "# camando a função e passando um número como parametro.\n",
    "verificapar(35)"
   ]
  },
  {
   "cell_type": "code",
   "execution_count": 5,
   "id": "5284757e",
   "metadata": {},
   "outputs": [
    {
     "data": {
      "text/plain": [
       "True"
      ]
     },
     "execution_count": 5,
     "metadata": {},
     "output_type": "execute_result"
    }
   ],
   "source": [
    "verificapar(10)"
   ]
  },
  {
   "cell_type": "code",
   "execution_count": 6,
   "id": "48da69c0",
   "metadata": {},
   "outputs": [],
   "source": [
    "lista = list(range(19))"
   ]
  },
  {
   "cell_type": "code",
   "execution_count": 7,
   "id": "95ef6459",
   "metadata": {},
   "outputs": [
    {
     "data": {
      "text/plain": [
       "[0, 1, 2, 3, 4, 5, 6, 7, 8, 9, 10, 11, 12, 13, 14, 15, 16, 17, 18]"
      ]
     },
     "execution_count": 7,
     "metadata": {},
     "output_type": "execute_result"
    }
   ],
   "source": [
    "lista"
   ]
  },
  {
   "cell_type": "code",
   "execution_count": 8,
   "id": "e0990b9c",
   "metadata": {},
   "outputs": [
    {
     "data": {
      "text/plain": [
       "<filter at 0x22d4e795150>"
      ]
     },
     "execution_count": 8,
     "metadata": {},
     "output_type": "execute_result"
    }
   ],
   "source": [
    "# A função filter(), retorna um interator\n",
    "filter(verificapar, lista)"
   ]
  },
  {
   "cell_type": "code",
   "execution_count": 9,
   "id": "d4d0e517",
   "metadata": {},
   "outputs": [
    {
     "data": {
      "text/plain": [
       "[0, 2, 4, 6, 8, 10, 12, 14, 16, 18]"
      ]
     },
     "execution_count": 9,
     "metadata": {},
     "output_type": "execute_result"
    }
   ],
   "source": [
    "list(filter(verificapar, lista))"
   ]
  },
  {
   "cell_type": "code",
   "execution_count": 10,
   "id": "23c6e9a4",
   "metadata": {},
   "outputs": [
    {
     "data": {
      "text/plain": [
       "[0, 2, 4, 6, 8, 10, 12, 14, 16, 18]"
      ]
     },
     "execution_count": 10,
     "metadata": {},
     "output_type": "execute_result"
    }
   ],
   "source": [
    "# filter com função lambda\n",
    "list(filter(lambda x: x%2==0, lista))"
   ]
  },
  {
   "cell_type": "code",
   "execution_count": 11,
   "id": "b33c170c",
   "metadata": {},
   "outputs": [
    {
     "data": {
      "text/plain": [
       "[9, 10, 11, 12, 13, 14, 15, 16, 17, 18]"
      ]
     },
     "execution_count": 11,
     "metadata": {},
     "output_type": "execute_result"
    }
   ],
   "source": [
    "list(filter(lambda num: num >8, lista))"
   ]
  },
  {
   "cell_type": "markdown",
   "id": "f260d31a",
   "metadata": {},
   "source": [
    "# Fim"
   ]
  }
 ],
 "metadata": {
  "kernelspec": {
   "display_name": "Python 3 (ipykernel)",
   "language": "python",
   "name": "python3"
  },
  "language_info": {
   "codemirror_mode": {
    "name": "ipython",
    "version": 3
   },
   "file_extension": ".py",
   "mimetype": "text/x-python",
   "name": "python",
   "nbconvert_exporter": "python",
   "pygments_lexer": "ipython3",
   "version": "3.11.5"
  }
 },
 "nbformat": 4,
 "nbformat_minor": 5
}
