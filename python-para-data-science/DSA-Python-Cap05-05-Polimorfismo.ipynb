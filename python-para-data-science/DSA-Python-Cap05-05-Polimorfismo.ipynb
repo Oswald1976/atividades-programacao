{
 "cells": [
  {
   "cell_type": "markdown",
   "id": "e0d24f5f",
   "metadata": {},
   "source": [
    "# Data Science Academy\n",
    "\n",
    "## Fundamentos da Linguagem Python para Análise de Dados e Data Science\n",
    "\n",
    "### Introdução à Programação orientada a Objetos"
   ]
  },
  {
   "cell_type": "markdown",
   "id": "19e5346e",
   "metadata": {},
   "source": [
    "## Trabalhando com Polimorfismo de Classes em Python\n",
    "\n",
    "Polímorfismo é um dos conceitos fundamentais da Programação Orientada a Objetos(POO). O polimorfismo permite que objetos de diferentes classes possam ser tratados de forma uniforme. Isso significa que um objeto pode ser tratado como se fosse um objeto de uma superclasse, mesmo que ele seja de uma subclasse.\n",
    "\n",
    "Mais especificamente, o polimorfismo se refere à habilidade de m objeto responder de diferentes formas a uma mesma mensagem. Isso e possível porque as subclasses podem implementar métodos com o mesmo nome que os métodos da superclasse, mas com comportamentos diferentes.\n",
    "\n",
    "Com o Polimorfismo, os mesmos atributos e metodos podem ser utilizados em objetos distintos, porém, com implementações lógicas diferentes."
   ]
  },
  {
   "cell_type": "code",
   "execution_count": 1,
   "id": "beedcfb4",
   "metadata": {},
   "outputs": [],
   "source": [
    "# Superclasse\n",
    "class Veiculo:\n",
    "    \n",
    "    def __init__(self, marca, modelo):\n",
    "        self.marca = marca\n",
    "        self.modelo = modelo\n",
    "        \n",
    "    def acelerar(self):\n",
    "        pass\n",
    "       \n",
    "    def frear(self):\n",
    "        pass"
   ]
  },
  {
   "cell_type": "code",
   "execution_count": 2,
   "id": "da4ccddd",
   "metadata": {},
   "outputs": [],
   "source": [
    "# Subclasse\n",
    "class Carro(Veiculo):\n",
    "    \n",
    "    def acelerar(self):\n",
    "        print('O carro está acelerando.')\n",
    "        \n",
    "    def frear(self):\n",
    "        print('O carro está freando')"
   ]
  },
  {
   "cell_type": "code",
   "execution_count": 4,
   "id": "831bae56",
   "metadata": {},
   "outputs": [],
   "source": [
    "class Moto(Veiculo):\n",
    "    \n",
    "    def acelerar(self):\n",
    "        print('A moto está acelerando.')\n",
    "        \n",
    "    def frear(self):\n",
    "        print('a moto está freando')"
   ]
  },
  {
   "cell_type": "code",
   "execution_count": 6,
   "id": "25937910",
   "metadata": {},
   "outputs": [],
   "source": [
    "# Subclasse\n",
    "class Aviao(Veiculo):\n",
    "    \n",
    "    def acelerar(self):\n",
    "        print('O aviao está acelerando.')\n",
    "    \n",
    "    def frear(self):\n",
    "        print('O aviao está freando')\n",
    "        \n",
    "    def decolar(self):\n",
    "        print('O aviao está decolando.')"
   ]
  },
  {
   "cell_type": "code",
   "execution_count": 7,
   "id": "01b6206b",
   "metadata": {},
   "outputs": [],
   "source": [
    "# Cria os objetos\n",
    "lista_veiculos = [Carro('Porsche', '911 Turbo'), Moto('Honda', 'CB 1000R'), Aviao('Boeing', '757')]"
   ]
  },
  {
   "cell_type": "code",
   "execution_count": 8,
   "id": "cd48cf39",
   "metadata": {},
   "outputs": [
    {
     "name": "stdout",
     "output_type": "stream",
     "text": [
      "O carro está acelerando.\n",
      "O carro está freando\n",
      "----\n",
      "A moto está acelerando.\n",
      "a moto está freando\n",
      "----\n",
      "O aviao está acelerando.\n",
      "O aviao está freando\n",
      "O aviao está decolando.\n",
      "----\n"
     ]
    }
   ],
   "source": [
    "# loop\n",
    "for item in lista_veiculos:\n",
    "    \n",
    "    item.acelerar()\n",
    "    item.frear()\n",
    "    if isinstance(item, Aviao):\n",
    "        item.decolar()\n",
    "        \n",
    "    print('----')"
   ]
  },
  {
   "cell_type": "markdown",
   "id": "eeb77811",
   "metadata": {},
   "source": [
    "# FIM"
   ]
  },
  {
   "cell_type": "code",
   "execution_count": 9,
   "id": "8e17cacd",
   "metadata": {},
   "outputs": [
    {
     "data": {
      "text/plain": [
       "[__main__.Moto, __main__.Veiculo, object]"
      ]
     },
     "execution_count": 9,
     "metadata": {},
     "output_type": "execute_result"
    }
   ],
   "source": [
    "Moto.mro()"
   ]
  },
  {
   "cell_type": "code",
   "execution_count": 10,
   "id": "362ec074",
   "metadata": {},
   "outputs": [
    {
     "ename": "AttributeError",
     "evalue": "type object 'Moto' has no attribute 'marca'",
     "output_type": "error",
     "traceback": [
      "\u001b[1;31m---------------------------------------------------------------------------\u001b[0m",
      "\u001b[1;31mAttributeError\u001b[0m                            Traceback (most recent call last)",
      "Cell \u001b[1;32mIn[10], line 1\u001b[0m\n\u001b[1;32m----> 1\u001b[0m \u001b[38;5;28mprint\u001b[39m(Moto\u001b[38;5;241m.\u001b[39mmarca)\n",
      "\u001b[1;31mAttributeError\u001b[0m: type object 'Moto' has no attribute 'marca'"
     ]
    }
   ],
   "source": [
    "print(Moto.marca)"
   ]
  },
  {
   "cell_type": "code",
   "execution_count": null,
   "id": "a17482df",
   "metadata": {},
   "outputs": [],
   "source": [
    "Aviao."
   ]
  }
 ],
 "metadata": {
  "kernelspec": {
   "display_name": "Python 3 (ipykernel)",
   "language": "python",
   "name": "python3"
  },
  "language_info": {
   "codemirror_mode": {
    "name": "ipython",
    "version": 3
   },
   "file_extension": ".py",
   "mimetype": "text/x-python",
   "name": "python",
   "nbconvert_exporter": "python",
   "pygments_lexer": "ipython3",
   "version": "3.11.5"
  }
 },
 "nbformat": 4,
 "nbformat_minor": 5
}
