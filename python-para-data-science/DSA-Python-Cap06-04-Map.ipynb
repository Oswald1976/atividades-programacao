{
 "cells": [
  {
   "cell_type": "markdown",
   "id": "e19b7d62",
   "metadata": {},
   "source": [
    "# Data Science Academy"
   ]
  },
  {
   "cell_type": "markdown",
   "id": "5c9ce66c",
   "metadata": {},
   "source": [
    "## Fundamentos da Linguagem Python Para Análise de Dads e Data Science"
   ]
  },
  {
   "cell_type": "markdown",
   "id": "275095a5",
   "metadata": {},
   "source": [
    "### Capítulo 6 - Função Map"
   ]
  },
  {
   "cell_type": "markdown",
   "id": "487babdb",
   "metadata": {},
   "source": [
    "Funções Built-in = funções internas ja no proprio Python Puro"
   ]
  },
  {
   "cell_type": "code",
   "execution_count": 1,
   "id": "ce1167df",
   "metadata": {},
   "outputs": [
    {
     "name": "stdout",
     "output_type": "stream",
     "text": [
      "Versão da Linguaguem Python usada neste Jupyter Notebook :  3.11.5\n"
     ]
    }
   ],
   "source": [
    "# Versão da Linguagem Python\n",
    "from platform import python_version\n",
    "print(\"Versão da Linguaguem Python usada neste Jupyter Notebook : \", python_version())"
   ]
  },
  {
   "cell_type": "markdown",
   "id": "a1567730",
   "metadata": {},
   "source": [
    "## Função Map\n",
    "A função map() em Python é  uma função que se aplica uma determinada função a cada elemento de uma estrutura de dados iterável (como uma lista, tupla ou outro objetvo iterável). A função map() retorna um objeto que pode ser convertido em outra estrutura de dados, como uma lista, se necessário."
   ]
  },
  {
   "cell_type": "code",
   "execution_count": 2,
   "id": "c4a47797",
   "metadata": {},
   "outputs": [],
   "source": [
    "# Função Python que retorna um número ao quadrado\n",
    "def potencia(x):\n",
    "    return x ** 2"
   ]
  },
  {
   "cell_type": "code",
   "execution_count": 3,
   "id": "6fa124da",
   "metadata": {},
   "outputs": [],
   "source": [
    "numeros = [1, 2, 3, 4, 5]"
   ]
  },
  {
   "cell_type": "code",
   "execution_count": 4,
   "id": "8836a744",
   "metadata": {},
   "outputs": [],
   "source": [
    "numeros_ao_quadrado = list(map(potencia, numeros))"
   ]
  },
  {
   "cell_type": "code",
   "execution_count": 5,
   "id": "baa862aa",
   "metadata": {},
   "outputs": [
    {
     "name": "stdout",
     "output_type": "stream",
     "text": [
      "[1, 4, 9, 16, 25]\n"
     ]
    }
   ],
   "source": [
    "print(numeros_ao_quadrado)"
   ]
  },
  {
   "cell_type": "code",
   "execution_count": 13,
   "id": "b07b9a34",
   "metadata": {},
   "outputs": [],
   "source": [
    "# criando duas funções :\n",
    "# Função 1 - recebe uma temperatura como parâmetro e retorna a temperatura em Fahrenheit\n",
    "def fahrenheit(T):\n",
    "    return ((float(9)/5) * T+32)\n",
    "\n",
    "# Função 2 - recebe uma temperatura como parâmetro e retorna a temperatura em Celsius\n",
    "def celsius(T):\n",
    "    return (float (5)/ 9) * (T-32)"
   ]
  },
  {
   "cell_type": "code",
   "execution_count": 5,
   "id": "4529b5d4",
   "metadata": {},
   "outputs": [],
   "source": [
    "# Criando uma lista\n",
    "temperaturas = [0, 22.5, 40, 100]"
   ]
  },
  {
   "cell_type": "code",
   "execution_count": 15,
   "id": "fd025e8f",
   "metadata": {},
   "outputs": [
    {
     "data": {
      "text/plain": [
       "<map at 0x23fa90b5900>"
      ]
     },
     "execution_count": 15,
     "metadata": {},
     "output_type": "execute_result"
    }
   ],
   "source": [
    "# Aplicando a função MAP a cada elemento da lista de temperaturas\n",
    "# EM PYTHON 3,  a função map() retorna um interator\n",
    "map(fahrenheit, temperaturas)"
   ]
  },
  {
   "cell_type": "code",
   "execution_count": 16,
   "id": "9e551e5b",
   "metadata": {},
   "outputs": [
    {
     "data": {
      "text/plain": [
       "[32.0, 72.5, 104.0, 212.0]"
      ]
     },
     "execution_count": 16,
     "metadata": {},
     "output_type": "execute_result"
    }
   ],
   "source": [
    "list(map(fahrenheit, temperaturas))"
   ]
  },
  {
   "cell_type": "code",
   "execution_count": 6,
   "id": "56af9361",
   "metadata": {},
   "outputs": [
    {
     "ename": "NameError",
     "evalue": "name 'celsius' is not defined",
     "output_type": "error",
     "traceback": [
      "\u001b[1;31m---------------------------------------------------------------------------\u001b[0m",
      "\u001b[1;31mNameError\u001b[0m                                 Traceback (most recent call last)",
      "Cell \u001b[1;32mIn[6], line 1\u001b[0m\n\u001b[1;32m----> 1\u001b[0m \u001b[38;5;28mlist\u001b[39m(\u001b[38;5;28mmap\u001b[39m(celsius, temperaturas))\n",
      "\u001b[1;31mNameError\u001b[0m: name 'celsius' is not defined"
     ]
    }
   ],
   "source": [
    "list(map(celsius, temperaturas))"
   ]
  },
  {
   "cell_type": "code",
   "execution_count": 7,
   "id": "3f23e7ab",
   "metadata": {},
   "outputs": [
    {
     "data": {
      "text/plain": [
       "[-17.77777777777778, -5.277777777777778, 4.444444444444445, 37.77777777777778]"
      ]
     },
     "execution_count": 7,
     "metadata": {},
     "output_type": "execute_result"
    }
   ],
   "source": [
    "# usando empressão lambda(cria a função no momento da utilização)\n",
    "list(map(lambda x: (5.0 / 9)*(x - 32), temperaturas))"
   ]
  },
  {
   "cell_type": "code",
   "execution_count": 8,
   "id": "bb0c6998",
   "metadata": {},
   "outputs": [],
   "source": [
    "# Somando os elementos de 2 listas\n",
    "a = [1, 2, 3, 4]\n",
    "b = [5, 6, 7, 8]"
   ]
  },
  {
   "cell_type": "code",
   "execution_count": 9,
   "id": "da5ce8f2",
   "metadata": {},
   "outputs": [
    {
     "data": {
      "text/plain": [
       "[6, 8, 10, 12]"
      ]
     },
     "execution_count": 9,
     "metadata": {},
     "output_type": "execute_result"
    }
   ],
   "source": [
    "list(map(lambda x,y: x+y, a,b))"
   ]
  },
  {
   "cell_type": "code",
   "execution_count": 10,
   "id": "3514793b",
   "metadata": {},
   "outputs": [],
   "source": [
    "# somando os elementos de 3 lista\n",
    "c = [9, 10, 11, 12]"
   ]
  },
  {
   "cell_type": "code",
   "execution_count": 11,
   "id": "2ce0c3c9",
   "metadata": {},
   "outputs": [
    {
     "data": {
      "text/plain": [
       "[15, 18, 21, 24]"
      ]
     },
     "execution_count": 11,
     "metadata": {},
     "output_type": "execute_result"
    }
   ],
   "source": [
    "list(map(lambda x, y, z : x + y + z, a, b, c))"
   ]
  },
  {
   "cell_type": "markdown",
   "id": "48eae536",
   "metadata": {},
   "source": [
    "# Fim"
   ]
  }
 ],
 "metadata": {
  "kernelspec": {
   "display_name": "Python 3 (ipykernel)",
   "language": "python",
   "name": "python3"
  },
  "language_info": {
   "codemirror_mode": {
    "name": "ipython",
    "version": 3
   },
   "file_extension": ".py",
   "mimetype": "text/x-python",
   "name": "python",
   "nbconvert_exporter": "python",
   "pygments_lexer": "ipython3",
   "version": "3.11.5"
  }
 },
 "nbformat": 4,
 "nbformat_minor": 5
}
