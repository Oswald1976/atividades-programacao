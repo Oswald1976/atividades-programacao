{
 "cells": [
  {
   "cell_type": "markdown",
   "id": "d2ed76a2",
   "metadata": {},
   "source": [
    "# Data Science Academy\n",
    "\n",
    "## Fundamentos da Linguagem Python para Análise de Dados e Data Science\n",
    "\n",
    "### Introdução à Programação Orientada a Objetos\n"
   ]
  },
  {
   "cell_type": "code",
   "execution_count": 1,
   "id": "b51e6d14",
   "metadata": {},
   "outputs": [
    {
     "name": "stdout",
     "output_type": "stream",
     "text": [
      "Versão da Linguagem Python Usada Neste Jupyter Notebook: 3.11.5\n"
     ]
    }
   ],
   "source": [
    "# Versão da Linguagem Python\n",
    "from platform import python_version\n",
    "print('Versão da Linguagem Python Usada Neste Jupyter Notebook:', python_version())"
   ]
  },
  {
   "cell_type": "markdown",
   "id": "cec2ae49",
   "metadata": {},
   "source": [
    "# Classes\n",
    "\n",
    "Em Programação Orientada a Objetos(POO), uma classe é uma estrutura que descreve um objeto, especificando os atributos e comportamentos que o objeto deve ter. Uma classe é uma espécie de modelo que define as caracteristicas e açoes que um objeto deve possuir.\n",
    "\n",
    "As classes são usadas para criar objetos que são instancias da classe. Cada objeto criado a partir da mesma classe terá os mesmos atributos e comportamentos\n",
    "\n",
    "Para criar uma classe em Python, utiliza-se a palavra resercada class.\n",
    "\n",
    "O nome da classe segue a mesma convenção de nome para criação de funções e variáves em Python, mas normalmentes se usa a primeira letra maiúscula em cada palavra no nome da clase."
   ]
  },
  {
   "cell_type": "code",
   "execution_count": 13,
   "id": "15890047",
   "metadata": {},
   "outputs": [],
   "source": [
    "# Criando uma classe chamada Livro\n",
    "class Livro():\n",
    "    \n",
    "    #Este método vai inicialiazar cada pbketp croadp a ártor desta classe\n",
    "    #O nome deste método é __init___\n",
    "    #(self) é uma referência a cada atributo da própria classe (e não de uma classe mãe, por exemplo)\n",
    "    def __init__(self):\n",
    "        \n",
    "        #atributos são propriedades\n",
    "        self.titulo = 'Sapiens - Uma Breve História da Humanidade'\n",
    "        self.isbn = 99888\n",
    "        print('Construtor chamado para criar um objeto desta classe.')\n",
    "        \n",
    "        # Métdos são funções que executam ações nos objetos da classe\n",
    "    def imprime(self):\n",
    "        print(\"Foi Criado o livro %s com ISBN %d\" %(self.titulo, self.isbn))"
   ]
  },
  {
   "cell_type": "markdown",
   "id": "ff171b40",
   "metadata": {},
   "source": [
    "Em Python, a palavra reservada self é uma referência ao objeto atual da classe. Quando um objeto é criado a partir de uma classe, self é utilizado para se referir a esse objeto especifico.\n"
   ]
  },
  {
   "cell_type": "code",
   "execution_count": 15,
   "id": "17df0f4b",
   "metadata": {},
   "outputs": [
    {
     "name": "stdout",
     "output_type": "stream",
     "text": [
      "Construtor chamado para criar um objeto desta classe.\n"
     ]
    }
   ],
   "source": [
    "Livro1 = Livro()"
   ]
  },
  {
   "cell_type": "code",
   "execution_count": 16,
   "id": "38ee5f7a",
   "metadata": {},
   "outputs": [
    {
     "data": {
      "text/plain": [
       "__main__.Livro"
      ]
     },
     "execution_count": 16,
     "metadata": {},
     "output_type": "execute_result"
    }
   ],
   "source": [
    "# O objeto livro1 é do tipo Livro\n",
    "type(Livro1)"
   ]
  },
  {
   "cell_type": "code",
   "execution_count": 17,
   "id": "65dcbb84",
   "metadata": {},
   "outputs": [
    {
     "data": {
      "text/plain": [
       "'Sapiens - Uma Breve História da Humanidade'"
      ]
     },
     "execution_count": 17,
     "metadata": {},
     "output_type": "execute_result"
    }
   ],
   "source": [
    "Livro1.titulo"
   ]
  },
  {
   "cell_type": "code",
   "execution_count": 18,
   "id": "f2fa39ad",
   "metadata": {},
   "outputs": [
    {
     "name": "stdout",
     "output_type": "stream",
     "text": [
      "Foi Criado o livro Sapiens - Uma Breve História da Humanidade com ISBN 99888\n"
     ]
    }
   ],
   "source": [
    "# Método do objeto Livro1\n",
    "Livro1.imprime()"
   ]
  },
  {
   "cell_type": "code",
   "execution_count": 19,
   "id": "efda5971",
   "metadata": {},
   "outputs": [],
   "source": [
    "# Criando uma classe chamada Livro \"agora\" com parâmetros\n",
    "class Livro():\n",
    "    \n",
    "    def __init__(self, titulo, isbn):\n",
    "        \n",
    "        #atributos são propriedades\n",
    "        self.titulo = titulo\n",
    "        self.isbn = isbn\n",
    "        print('Construtor chamado para criar um objeto desta classe.')\n",
    "        \n",
    "        # Métdos são funções que executam ações nos objetos da classe\n",
    "    def imprime(self, titulo, isbn):\n",
    "        print(\"Foi Criado o livro %s com ISBN %d\" %(titulo, isbn))"
   ]
  },
  {
   "cell_type": "code",
   "execution_count": 20,
   "id": "a01be5c0",
   "metadata": {},
   "outputs": [
    {
     "name": "stdout",
     "output_type": "stream",
     "text": [
      "Construtor chamado para criar um objeto desta classe.\n"
     ]
    }
   ],
   "source": [
    "# Criando o objeto Livro2\n",
    "Livro2 = Livro(\"O Poder do Habito\", 77886611)"
   ]
  },
  {
   "cell_type": "code",
   "execution_count": 22,
   "id": "ab4680fc",
   "metadata": {},
   "outputs": [
    {
     "data": {
      "text/plain": [
       "'O Poder do Habito'"
      ]
     },
     "execution_count": 22,
     "metadata": {},
     "output_type": "execute_result"
    }
   ],
   "source": [
    "Livro2.titulo"
   ]
  },
  {
   "cell_type": "code",
   "execution_count": 23,
   "id": "44849d1a",
   "metadata": {},
   "outputs": [
    {
     "name": "stdout",
     "output_type": "stream",
     "text": [
      "Foi Criado o livro O Poder do Habito com ISBN 77886611\n"
     ]
    }
   ],
   "source": [
    "Livro2.imprime(\"O Poder do Habito\", 77886611)"
   ]
  },
  {
   "cell_type": "code",
   "execution_count": 24,
   "id": "05f4da71",
   "metadata": {},
   "outputs": [],
   "source": [
    "# Criando a Classe\n",
    "class Algoritmo():\n",
    "    \n",
    "    def __init__(self, tipo_algo):\n",
    "        self.tipo = tipo_algo\n",
    "        print(\"Construtor chamado para criar um objeto desta classe\")"
   ]
  },
  {
   "cell_type": "code",
   "execution_count": 25,
   "id": "0090459c",
   "metadata": {},
   "outputs": [
    {
     "name": "stdout",
     "output_type": "stream",
     "text": [
      "Construtor chamado para criar um objeto desta classe\n"
     ]
    }
   ],
   "source": [
    "algo1 = Algoritmo(tipo_algo = \"Randon Forest\")"
   ]
  },
  {
   "cell_type": "code",
   "execution_count": 26,
   "id": "7dfaa9df",
   "metadata": {},
   "outputs": [
    {
     "name": "stdout",
     "output_type": "stream",
     "text": [
      "Construtor chamado para criar um objeto desta classe\n"
     ]
    }
   ],
   "source": [
    "algo2 = Algoritmo(tipo_algo = \"Deep Learning\")"
   ]
  },
  {
   "cell_type": "code",
   "execution_count": 27,
   "id": "8bff43ea",
   "metadata": {},
   "outputs": [
    {
     "data": {
      "text/plain": [
       "'Randon Forest'"
      ]
     },
     "execution_count": 27,
     "metadata": {},
     "output_type": "execute_result"
    }
   ],
   "source": [
    "#atributo da classe\n",
    "algo1.tipo"
   ]
  },
  {
   "cell_type": "code",
   "execution_count": 28,
   "id": "096d0839",
   "metadata": {},
   "outputs": [
    {
     "data": {
      "text/plain": [
       "'Deep Learning'"
      ]
     },
     "execution_count": 28,
     "metadata": {},
     "output_type": "execute_result"
    }
   ],
   "source": [
    "algo2.tipo"
   ]
  },
  {
   "cell_type": "markdown",
   "id": "cc4dc75e",
   "metadata": {},
   "source": [
    "# FIM"
   ]
  },
  {
   "cell_type": "code",
   "execution_count": null,
   "id": "c23adf31",
   "metadata": {},
   "outputs": [],
   "source": []
  }
 ],
 "metadata": {
  "kernelspec": {
   "display_name": "Python 3 (ipykernel)",
   "language": "python",
   "name": "python3"
  },
  "language_info": {
   "codemirror_mode": {
    "name": "ipython",
    "version": 3
   },
   "file_extension": ".py",
   "mimetype": "text/x-python",
   "name": "python",
   "nbconvert_exporter": "python",
   "pygments_lexer": "ipython3",
   "version": "3.11.5"
  }
 },
 "nbformat": 4,
 "nbformat_minor": 5
}
