{
 "cells": [
  {
   "cell_type": "code",
   "execution_count": 3,
   "id": "6fba4b26",
   "metadata": {},
   "outputs": [],
   "source": [
    "# Projeto 1 - Desenvolvimento do jogo da forca - Versão 1\n",
    "\n",
    "import random\n",
    "from os import system, name\n",
    "\n",
    "#função para limpar a tela a cada execução\n",
    "def limpa_tela():\n",
    "    \n",
    "    # Windows\n",
    "    if name == 'nt':\n",
    "        _ = system('cls')\n",
    "     \n",
    "     # Linux ou Mac\n",
    "    else:\n",
    "        _ = system('clear')"
   ]
  },
  {
   "cell_type": "code",
   "execution_count": 4,
   "id": "3b29742e",
   "metadata": {},
   "outputs": [
    {
     "data": {
      "text/plain": [
       "'nt'"
      ]
     },
     "execution_count": 4,
     "metadata": {},
     "output_type": "execute_result"
    }
   ],
   "source": [
    "name\n"
   ]
  },
  {
   "cell_type": "code",
   "execution_count": 5,
   "id": "cf889d06",
   "metadata": {},
   "outputs": [],
   "source": [
    "limpa_tela()"
   ]
  },
  {
   "cell_type": "code",
   "execution_count": 6,
   "id": "15f60100",
   "metadata": {},
   "outputs": [
    {
     "data": {
      "text/plain": [
       "<function __main__.limpa_tela()>"
      ]
     },
     "execution_count": 6,
     "metadata": {},
     "output_type": "execute_result"
    }
   ],
   "source": [
    "limpa_tela"
   ]
  },
  {
   "cell_type": "code",
   "execution_count": 7,
   "id": "97f70f08",
   "metadata": {},
   "outputs": [
    {
     "ename": "IndentationError",
     "evalue": "unexpected indent (2323805771.py, line 4)",
     "output_type": "error",
     "traceback": [
      "\u001b[1;36m  Cell \u001b[1;32mIn[7], line 4\u001b[1;36m\u001b[0m\n\u001b[1;33m    palavra = random.choice(palavras)\u001b[0m\n\u001b[1;37m    ^\u001b[0m\n\u001b[1;31mIndentationError\u001b[0m\u001b[1;31m:\u001b[0m unexpected indent\n"
     ]
    }
   ],
   "source": [
    "palavras = ['banana', 'abacate', 'uva', 'morango', 'laranja']\n",
    "    \n",
    "    # Escolhe randomicamente uma palavra\n",
    "    palavra = random.choice(palavras)\n",
    "    \n",
    "    tracos = len(palavra)"
   ]
  },
  {
   "cell_type": "code",
   "execution_count": 8,
   "id": "031dcebe",
   "metadata": {},
   "outputs": [],
   "source": [
    "def game():\n",
    "\n",
    "    limpa_tela()\n",
    "    print(\"\\nBem-Vindos ao jogo da forca!\")\n",
    "    print(\"Adivinhe a palavra abaixo:\\n\")\n",
    "    \n",
    "    # Lista de palavras para o jogo\n",
    "    palavras = ['banana', 'abacate', 'uva', 'morango', 'laranja']\n",
    "    \n",
    "    # Escolhe randomicamente uma palavra\n",
    "    palavra = random.choice(palavras)\n",
    "    \n",
    "    tracos = len(palavra)"
   ]
  },
  {
   "cell_type": "code",
   "execution_count": 9,
   "id": "7dd76987",
   "metadata": {},
   "outputs": [
    {
     "ename": "NameError",
     "evalue": "name 'tracos' is not defined",
     "output_type": "error",
     "traceback": [
      "\u001b[1;31m---------------------------------------------------------------------------\u001b[0m",
      "\u001b[1;31mNameError\u001b[0m                                 Traceback (most recent call last)",
      "Cell \u001b[1;32mIn[9], line 1\u001b[0m\n\u001b[1;32m----> 1\u001b[0m tracos\n",
      "\u001b[1;31mNameError\u001b[0m: name 'tracos' is not defined"
     ]
    }
   ],
   "source": [
    "tracos"
   ]
  },
  {
   "cell_type": "code",
   "execution_count": 10,
   "id": "99981562",
   "metadata": {},
   "outputs": [
    {
     "ename": "NameError",
     "evalue": "name 'tracos' is not defined",
     "output_type": "error",
     "traceback": [
      "\u001b[1;31m---------------------------------------------------------------------------\u001b[0m",
      "\u001b[1;31mNameError\u001b[0m                                 Traceback (most recent call last)",
      "Cell \u001b[1;32mIn[10], line 1\u001b[0m\n\u001b[1;32m----> 1\u001b[0m \u001b[38;5;28mprint\u001b[39m(tracos)\n",
      "\u001b[1;31mNameError\u001b[0m: name 'tracos' is not defined"
     ]
    }
   ],
   "source": [
    "print(tracos)"
   ]
  },
  {
   "cell_type": "code",
   "execution_count": 11,
   "id": "e70b9ff7",
   "metadata": {},
   "outputs": [
    {
     "name": "stdout",
     "output_type": "stream",
     "text": [
      "\n",
      "Bem-Vindos ao jogo da forca!\n",
      "Adivinhe a palavra abaixo:\n",
      "\n"
     ]
    }
   ],
   "source": [
    "game()"
   ]
  },
  {
   "cell_type": "code",
   "execution_count": 12,
   "id": "e91c90fa",
   "metadata": {},
   "outputs": [
    {
     "ename": "NameError",
     "evalue": "name 'palavra' is not defined",
     "output_type": "error",
     "traceback": [
      "\u001b[1;31m---------------------------------------------------------------------------\u001b[0m",
      "\u001b[1;31mNameError\u001b[0m                                 Traceback (most recent call last)",
      "Cell \u001b[1;32mIn[12], line 1\u001b[0m\n\u001b[1;32m----> 1\u001b[0m \u001b[38;5;28mprint\u001b[39m(palavra)\n",
      "\u001b[1;31mNameError\u001b[0m: name 'palavra' is not defined"
     ]
    }
   ],
   "source": [
    "print(palavra)"
   ]
  },
  {
   "cell_type": "code",
   "execution_count": null,
   "id": "645e45ab",
   "metadata": {},
   "outputs": [],
   "source": []
  }
 ],
 "metadata": {
  "kernelspec": {
   "display_name": "Python 3 (ipykernel)",
   "language": "python",
   "name": "python3"
  },
  "language_info": {
   "codemirror_mode": {
    "name": "ipython",
    "version": 3
   },
   "file_extension": ".py",
   "mimetype": "text/x-python",
   "name": "python",
   "nbconvert_exporter": "python",
   "pygments_lexer": "ipython3",
   "version": "3.11.5"
  }
 },
 "nbformat": 4,
 "nbformat_minor": 5
}
