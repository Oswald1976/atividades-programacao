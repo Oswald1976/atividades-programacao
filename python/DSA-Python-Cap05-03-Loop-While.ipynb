{
 "cells": [
  {
   "cell_type": "markdown",
   "id": "1c883657",
   "metadata": {},
   "source": [
    "# Capítulo 5 - Loop While"
   ]
  },
  {
   "cell_type": "code",
   "execution_count": 1,
   "id": "f787b5b7",
   "metadata": {},
   "outputs": [
    {
     "name": "stdout",
     "output_type": "stream",
     "text": [
      "Versão da Linguagem Python usada neste Jupyter Notebook: 3.11.5\n"
     ]
    }
   ],
   "source": [
    "# Versão da linguagem Python\n",
    "from platform import python_version\n",
    "print('Versão da Linguagem Python usada neste Jupyter Notebook:', python_version())"
   ]
  },
  {
   "cell_type": "markdown",
   "id": "c812aa0e",
   "metadata": {},
   "source": [
    "Loop While"
   ]
  },
  {
   "cell_type": "code",
   "execution_count": 2,
   "id": "78327282",
   "metadata": {},
   "outputs": [
    {
     "name": "stdout",
     "output_type": "stream",
     "text": [
      "0\n",
      "1\n",
      "2\n",
      "3\n",
      "4\n",
      "5\n",
      "6\n",
      "7\n",
      "8\n",
      "9\n"
     ]
    }
   ],
   "source": [
    "# Usando o loop while para imprimir os valores de 0 a 9\n",
    "# A condição tem que deixar ode ser verdadeira dentro do loop, senão pode travar o navegador ou mesmo o computador\n",
    "valor = 0\n",
    "while valor < 10:\n",
    "    print(valor)\n",
    "    valor +=1"
   ]
  },
  {
   "cell_type": "code",
   "execution_count": 5,
   "id": "2a098561",
   "metadata": {},
   "outputs": [],
   "source": [
    "# Entra no loop somente se a condição for verdadeira\n",
    "valor = 11 \n",
    "while valor < 10:\n",
    "    print(valor)\n",
    "    valor +=1\n",
    "    "
   ]
  },
  {
   "cell_type": "code",
   "execution_count": 8,
   "id": "9054003a",
   "metadata": {},
   "outputs": [
    {
     "name": "stdout",
     "output_type": "stream",
     "text": [
      "O valor de x nesta interação é:  0\n",
      "x ainda é menor que 10, somando 1 a x\n",
      "------\n",
      "O valor de x nesta interação é:  1\n",
      "x ainda é menor que 10, somando 1 a x\n",
      "------\n",
      "O valor de x nesta interação é:  2\n",
      "x ainda é menor que 10, somando 1 a x\n",
      "------\n",
      "O valor de x nesta interação é:  3\n",
      "x ainda é menor que 10, somando 1 a x\n",
      "------\n",
      "O valor de x nesta interação é:  4\n",
      "x ainda é menor que 10, somando 1 a x\n",
      "------\n",
      "O valor de x nesta interação é:  5\n",
      "x ainda é menor que 10, somando 1 a x\n",
      "------\n",
      "O valor de x nesta interação é:  6\n",
      "x ainda é menor que 10, somando 1 a x\n",
      "------\n",
      "O valor de x nesta interação é:  7\n",
      "x ainda é menor que 10, somando 1 a x\n",
      "------\n",
      "O valor de x nesta interação é:  8\n",
      "x ainda é menor que 10, somando 1 a x\n",
      "------\n",
      "O valor de x nesta interação é:  9\n",
      "x ainda é menor que 10, somando 1 a x\n",
      "------\n",
      "Loop Concluido !\n",
      "10\n"
     ]
    }
   ],
   "source": [
    "# também é possível usar a claúsula else para encerrar o loop while\n",
    "x = 0\n",
    "\n",
    "while x < 10:\n",
    "    print ('O valor de x nesta interação é: ', x)\n",
    "    print ('x ainda é menor que 10, somando 1 a x')\n",
    "    print (\"------\")\n",
    "    x += 1\n",
    "else:\n",
    "    print ('Loop Concluido !')\n",
    "print(x)"
   ]
  },
  {
   "cell_type": "markdown",
   "id": "641e3e2e",
   "metadata": {},
   "source": [
    "# PASS, BREAK E CONTINUE"
   ]
  },
  {
   "cell_type": "code",
   "execution_count": 1,
   "id": "8a7b1cbc",
   "metadata": {},
   "outputs": [
    {
     "name": "stdout",
     "output_type": "stream",
     "text": [
      "0\n",
      "1\n",
      "2\n",
      "3\n"
     ]
    }
   ],
   "source": [
    "# Se encontramos o número 4 interrompemos o loop\n",
    "valor = 0 \n",
    "while valor < 10:\n",
    "    if valor == 4:\n",
    "        break\n",
    "    else:\n",
    "        pass\n",
    "    print(valor)\n",
    "    valor = valor + 1\n"
   ]
  },
  {
   "cell_type": "code",
   "execution_count": 2,
   "id": "714d1980",
   "metadata": {},
   "outputs": [
    {
     "name": "stdout",
     "output_type": "stream",
     "text": [
      "p\n",
      "y\n",
      "t\n",
      "h\n",
      "o\n",
      "n\n",
      " \n",
      "é\n",
      " \n",
      " \n",
      "i\n",
      "n\n",
      "c\n",
      "r\n",
      "í\n",
      "v\n",
      "e\n",
      "l\n",
      " \n",
      "!\n"
     ]
    }
   ],
   "source": [
    "# Desconsideramos a letra z ao imprimir os caracteres da frase\n",
    "for letra in \"python é zzz incrível !\":\n",
    "    if letra ==\"z\":\n",
    "        continue\n",
    "    print(letra)"
   ]
  },
  {
   "cell_type": "markdown",
   "id": "a95beb10",
   "metadata": {},
   "source": [
    "# FOR E WHILE JUNTOS"
   ]
  },
  {
   "cell_type": "markdown",
   "id": "67b511d7",
   "metadata": {},
   "source": [
    "Vamos encontrar números primos em uma coleção de numeros usando loop While e For Juntos\n",
    "\n",
    "Um número primo é um número natural maior do que 1 que é divisível apenas por 1 e por ele mesmo.\n",
    "Isso significa que não há nenhum outro número inteiro que possa dividir o número primo sem deixar resto.\n",
    "Por exemplo, o número 2 é primo, pois é dívisivel aenas por 1 e 2.\n",
    "O número 4 não é primo, pois é divisivel por 2.\n",
    "\n",
    "Aqui está o pseudocódigo:"
   ]
  },
  {
   "cell_type": "code",
   "execution_count": null,
   "id": "269dd7df",
   "metadata": {},
   "outputs": [],
   "source": [
    "Inicialize uma lista vazia para armazenar os números primos\n",
    "Para cada numero N entre 2 e 30:\n",
    "    Inicialize uma variável eh_primo como verdadeira\n",
    "    Para cada numero i entre 2 e N/2:\n",
    "        Se N é divisível por i, então:\n",
    "            Altere a variável eh_primo para false\n",
    "            Pare de verificar os outros números\n",
    "    Se a váriavél eh_primo ainda é verdadeira, adicione N á lista de numeros primos\n",
    "Imprima a lista de números primos"
   ]
  },
  {
   "cell_type": "code",
   "execution_count": 5,
   "id": "0ce1acad",
   "metadata": {},
   "outputs": [
    {
     "name": "stdout",
     "output_type": "stream",
     "text": [
      "[2, 3, 5, 7, 11, 13, 17, 19, 23, 29]\n"
     ]
    }
   ],
   "source": [
    "# %%time\n",
    "\n",
    "# Encontrando numeros primos entre 2 e 30 usando loop for e while\n",
    "\n",
    "# Variavél para armazenar números primos\n",
    "primos = []\n",
    "\n",
    "# Loop for para percorrer números de 2 a 30\n",
    "for num in range(2, 31):\n",
    "    \n",
    "    # Variavel de controle\n",
    "    eh_primo = True\n",
    "    \n",
    "    # Loop while para verificar se o numero é primo\n",
    "    i = 2\n",
    "    while i <= num // 2:\n",
    "        if num % i == 0:\n",
    "            eh_primo = False\n",
    "            break\n",
    "        i += 1\n",
    "        \n",
    "    # Adicionando o número primo na lista\n",
    "    if eh_primo:\n",
    "        primos.append(num)\n",
    "        \n",
    "# Imprimindo a lista de numeros primos\n",
    "print(primos)"
   ]
  },
  {
   "cell_type": "code",
   "execution_count": null,
   "id": "0d152192",
   "metadata": {},
   "outputs": [],
   "source": [
    "# %% time\n",
    "\n",
    "# encontrando números primos entre 2 e 30 usando loop for e while (outro exemplo)\n",
    "\n",
    "# Loop for para percorrer númeors de 2 a 30\n",
    "for i in range(2,31):\n",
    "    \n",
    "    # Variável de controle \n",
    "    j = 2\n",
    "    \n",
    "    # Contador\n",
    "    valor = 0\n",
    "    \n",
    "    # Loop while para verificar se o numero é primo\n",
    "    while j < i:\n",
    "        se i % j == 0:\n",
    "            valor = 1\n",
    "            j = j + 1\n",
    "        else:\n",
    "            j = j + 1\n",
    "            \n",
    "    if valor == 0:\n",
    "        print(str(i) + \" é um número primo\")\n",
    "        valor = 0\n",
    "    else:\n",
    "        valor  = 0"
   ]
  }
 ],
 "metadata": {
  "kernelspec": {
   "display_name": "Python 3 (ipykernel)",
   "language": "python",
   "name": "python3"
  },
  "language_info": {
   "codemirror_mode": {
    "name": "ipython",
    "version": 3
   },
   "file_extension": ".py",
   "mimetype": "text/x-python",
   "name": "python",
   "nbconvert_exporter": "python",
   "pygments_lexer": "ipython3",
   "version": "3.11.5"
  }
 },
 "nbformat": 4,
 "nbformat_minor": 5
}
