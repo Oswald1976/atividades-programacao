{
 "cells": [
  {
   "cell_type": "code",
   "execution_count": 1,
   "id": "7c4ab4c4",
   "metadata": {},
   "outputs": [
    {
     "name": "stdout",
     "output_type": "stream",
     "text": [
      "Versão da Linguaguem Python usada neste Jupyter Notebook 3.11.5\n"
     ]
    }
   ],
   "source": [
    "# Versão da Linguagem Python\n",
    "from platform import python_version\n",
    "print('Versão da Linguaguem Python usada neste Jupyter Notebook', python_version())"
   ]
  },
  {
   "cell_type": "markdown",
   "id": "448c9428",
   "metadata": {},
   "source": [
    "https://tensorflow.org/"
   ]
  },
  {
   "cell_type": "markdown",
   "id": "4cac651c",
   "metadata": {},
   "source": [
    "Atenção : O TersonFlow pode apresentar problemas em algumas versóes de sistema operacional. Verifique a documentação oficial do link acima."
   ]
  },
  {
   "cell_type": "code",
   "execution_count": 3,
   "id": "ef2d3727",
   "metadata": {},
   "outputs": [
    {
     "name": "stderr",
     "output_type": "stream",
     "text": [
      "ERROR: Could not install packages due to an OSError: [WinError 5] Acesso negado: 'C:\\\\Users\\\\osvaldobonussi\\\\AppData\\\\Local\\\\anaconda3\\\\Lib\\\\site-packages\\\\~umpy\\\\core\\\\_multiarray_tests.cp311-win_amd64.pyd'\n",
      "Consider using the `--user` option or check the permissions.\n",
      "\n"
     ]
    }
   ],
   "source": [
    "# instalar o TF\n",
    "!pip install -q tensorflow==2.12 "
   ]
  },
  {
   "cell_type": "code",
   "execution_count": null,
   "id": "433c26f5",
   "metadata": {},
   "outputs": [],
   "source": []
  }
 ],
 "metadata": {
  "kernelspec": {
   "display_name": "Python 3 (ipykernel)",
   "language": "python",
   "name": "python3"
  },
  "language_info": {
   "codemirror_mode": {
    "name": "ipython",
    "version": 3
   },
   "file_extension": ".py",
   "mimetype": "text/x-python",
   "name": "python",
   "nbconvert_exporter": "python",
   "pygments_lexer": "ipython3",
   "version": "3.11.5"
  }
 },
 "nbformat": 4,
 "nbformat_minor": 5
}
