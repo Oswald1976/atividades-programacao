{
 "cells": [
  {
   "cell_type": "markdown",
   "id": "ff7e98a0",
   "metadata": {},
   "source": [
    "# Data Science Academy\n",
    "\n",
    "## Fundamentos da Linguagem Python para Análise de Daos e Data Science\n",
    "\n",
    "### Introdução à Programação Orientada a Objetos"
   ]
  },
  {
   "cell_type": "code",
   "execution_count": 1,
   "id": "eff52a30",
   "metadata": {},
   "outputs": [
    {
     "name": "stdout",
     "output_type": "stream",
     "text": [
      "Versão da Linguagem Python usada neste Jupyter Notebook : 3.11.5\n"
     ]
    }
   ],
   "source": [
    "# Versão da Liguaguem Python\n",
    "from platform import python_version\n",
    "print('Versão da Linguagem Python usada neste Jupyter Notebook :', python_version())"
   ]
  },
  {
   "cell_type": "markdown",
   "id": "c0853aa0",
   "metadata": {},
   "source": [
    "# Trabalhando com Métodos de Classes em Python"
   ]
  },
  {
   "cell_type": "markdown",
   "id": "3cc32aa3",
   "metadata": {},
   "source": [
    "Em Python, os métodos de classes são funções definidas dentro de uma classe, que realizam operações específicas em oubjetos criados a partir dessa classe. Os metodos de classes são usados para implementar o comportamento dos objetos que pertencem a essa classe.\n",
    "\n",
    "Assim como as funções em python, os métodos de classes podem receber argumentos e retornar valores. No entanto, diferentemente das funções normais, os métodos de classes sempre incluem o parâmetro self como primeiro argumento, que é usado para se referir ao objeto atual da classe.\n",
    "\n",
    "O método init é um método especial que é chamado quando um objeto é criado a partir da classe. Este método é usado para inicializar os atributos do objeto. Outros métododos podem ser definidos para executar tarefas específicas em um objeto, como calcular valores, realizar operações de entrada e saida e alterar os estado do objeto."
   ]
  },
  {
   "cell_type": "code",
   "execution_count": 7,
   "id": "c0eb7934",
   "metadata": {},
   "outputs": [],
   "source": [
    "# Criando uma classe chamada Circulo\n",
    "class Circulo():\n",
    "    \n",
    "    # valor de pi é constante \n",
    "    pi = 3.14\n",
    "    \n",
    "    # Quando um objeto desta classe for criado, este método será executado e o valor default do raio será 5.\n",
    "    def __init__(self, raio = 5):\n",
    "        self.raio = raio\n",
    "    \n",
    "    # Esse método calcula a área\n",
    "    def area(self):\n",
    "        return (self.raio * self.raio) * Circulo.pi\n",
    "    \n",
    "    # Método para gerar um novo raio\n",
    "    def setRaio(self, novo_raio):\n",
    "        self.raio = novo_raio\n",
    "        \n",
    "    # Método para objeter o raio do círculo\n",
    "    def getRaio(self):\n",
    "        return self.raio"
   ]
  },
  {
   "cell_type": "code",
   "execution_count": 8,
   "id": "8b718205",
   "metadata": {},
   "outputs": [],
   "source": [
    "# Criando o objeto circ, uma instância da classe Circulo()\n",
    "circ = Circulo()"
   ]
  },
  {
   "cell_type": "code",
   "execution_count": 9,
   "id": "1e7e9d03",
   "metadata": {},
   "outputs": [
    {
     "data": {
      "text/plain": [
       "5"
      ]
     },
     "execution_count": 9,
     "metadata": {},
     "output_type": "execute_result"
    }
   ],
   "source": [
    "circ.getRaio()"
   ]
  },
  {
   "cell_type": "code",
   "execution_count": 10,
   "id": "bd3f612f",
   "metadata": {},
   "outputs": [],
   "source": [
    "circ1 = Circulo(7)"
   ]
  },
  {
   "cell_type": "code",
   "execution_count": 11,
   "id": "b7da9c15",
   "metadata": {},
   "outputs": [
    {
     "data": {
      "text/plain": [
       "7"
      ]
     },
     "execution_count": 11,
     "metadata": {},
     "output_type": "execute_result"
    }
   ],
   "source": [
    "circ1.getRaio()"
   ]
  },
  {
   "cell_type": "code",
   "execution_count": 12,
   "id": "365e8378",
   "metadata": {},
   "outputs": [
    {
     "name": "stdout",
     "output_type": "stream",
     "text": [
      "O raio é :  5\n"
     ]
    }
   ],
   "source": [
    "# Imprimindo o raio\n",
    "print('O raio é : ', circ.getRaio())"
   ]
  },
  {
   "cell_type": "code",
   "execution_count": 14,
   "id": "def2b14e",
   "metadata": {},
   "outputs": [
    {
     "name": "stdout",
     "output_type": "stream",
     "text": [
      "A área é igual a:  78.5\n"
     ]
    }
   ],
   "source": [
    "# imprimindo a area\n",
    "print('A área é igual a: ',circ.area())"
   ]
  },
  {
   "cell_type": "code",
   "execution_count": 15,
   "id": "fca59c93",
   "metadata": {},
   "outputs": [],
   "source": [
    "circ.setRaio(3)"
   ]
  },
  {
   "cell_type": "code",
   "execution_count": 16,
   "id": "6e972bd0",
   "metadata": {},
   "outputs": [
    {
     "name": "stdout",
     "output_type": "stream",
     "text": [
      "O raio é :  3\n"
     ]
    }
   ],
   "source": [
    "print('O raio é : ', circ.getRaio())\n"
   ]
  },
  {
   "cell_type": "code",
   "execution_count": 17,
   "id": "4f636bdd",
   "metadata": {},
   "outputs": [
    {
     "name": "stdout",
     "output_type": "stream",
     "text": [
      "A área é igual a:  28.26\n"
     ]
    }
   ],
   "source": [
    "print('A área é igual a: ',circ.area())"
   ]
  },
  {
   "cell_type": "markdown",
   "id": "9245c4ab",
   "metadata": {},
   "source": []
  }
 ],
 "metadata": {
  "kernelspec": {
   "display_name": "Python 3 (ipykernel)",
   "language": "python",
   "name": "python3"
  },
  "language_info": {
   "codemirror_mode": {
    "name": "ipython",
    "version": 3
   },
   "file_extension": ".py",
   "mimetype": "text/x-python",
   "name": "python",
   "nbconvert_exporter": "python",
   "pygments_lexer": "ipython3",
   "version": "3.11.5"
  }
 },
 "nbformat": 4,
 "nbformat_minor": 5
}
