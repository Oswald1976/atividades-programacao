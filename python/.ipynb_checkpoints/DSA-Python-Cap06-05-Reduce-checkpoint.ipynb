{
 "cells": [
  {
   "cell_type": "markdown",
   "id": "78ac5bd7",
   "metadata": {},
   "source": [
    "# Data Science Academy"
   ]
  },
  {
   "cell_type": "markdown",
   "id": "a4d5e1fb",
   "metadata": {},
   "source": [
    "## Fundamentos da linguagem Python para Análise de Dados e Data Science"
   ]
  },
  {
   "cell_type": "markdown",
   "id": "17312b06",
   "metadata": {},
   "source": [
    "Capítulo 6 - Função Reduce"
   ]
  },
  {
   "cell_type": "code",
   "execution_count": 1,
   "id": "5691ca73",
   "metadata": {},
   "outputs": [],
   "source": [
    "# Versão da Línguagem Python\n",
    "from platform import python_version"
   ]
  },
  {
   "cell_type": "code",
   "execution_count": 5,
   "id": "5a9420bb",
   "metadata": {},
   "outputs": [
    {
     "name": "stdout",
     "output_type": "stream",
     "text": [
      "Versão da Linguagem Python Usada Neste Jupyter Notebook :  3.11.5\n"
     ]
    }
   ],
   "source": [
    "print(\"Versão da Linguagem Python Usada Neste Jupyter Notebook : \", python_version())"
   ]
  },
  {
   "cell_type": "markdown",
   "id": "20575fc3",
   "metadata": {},
   "source": [
    "## Função Reduce"
   ]
  },
  {
   "cell_type": "markdown",
   "id": "f64799c7",
   "metadata": {},
   "source": [
    "A função reduce() em python é uma função da biblioteca functools que aplica uma determinada função binaria a pares consecutivos de elementos em uma estrutura de dados iterável (como uma lista, tupla ou outro objeto iterável) reduzindo-a a m unico valor."
   ]
  },
  {
   "cell_type": "code",
   "execution_count": 6,
   "id": "58d9731e",
   "metadata": {},
   "outputs": [],
   "source": [
    "# importando a função reduce do módulo functools\n",
    "from functools import reduce"
   ]
  },
  {
   "cell_type": "code",
   "execution_count": 7,
   "id": "b65ab350",
   "metadata": {},
   "outputs": [],
   "source": [
    "# Criando ma lista \n",
    "lista = [47, 11, 42, 13]"
   ]
  },
  {
   "cell_type": "code",
   "execution_count": 8,
   "id": "9b927b5b",
   "metadata": {},
   "outputs": [
    {
     "data": {
      "text/plain": [
       "[47, 11, 42, 13]"
      ]
     },
     "execution_count": 8,
     "metadata": {},
     "output_type": "execute_result"
    }
   ],
   "source": [
    "lista"
   ]
  },
  {
   "cell_type": "code",
   "execution_count": 9,
   "id": "d8302224",
   "metadata": {},
   "outputs": [],
   "source": [
    "# função\n",
    "def soma(a,b):\n",
    "    x = a + b\n",
    "    return x"
   ]
  },
  {
   "cell_type": "code",
   "execution_count": 10,
   "id": "b8ba63d4",
   "metadata": {},
   "outputs": [
    {
     "data": {
      "text/plain": [
       "113"
      ]
     },
     "execution_count": 10,
     "metadata": {},
     "output_type": "execute_result"
    }
   ],
   "source": [
    "# usando reduce com uma função e uma lista. A função vai retornar o valor máximo.\n",
    "reduce(soma, lista)"
   ]
  },
  {
   "cell_type": "code",
   "execution_count": 12,
   "id": "d120147d",
   "metadata": {},
   "outputs": [
    {
     "data": {
      "text/plain": [
       "113"
      ]
     },
     "execution_count": 12,
     "metadata": {},
     "output_type": "execute_result"
    }
   ],
   "source": [
    "# Usando a função reduce com lambda\n",
    "reduce(lambda x,y: x+y, lista)"
   ]
  },
  {
   "cell_type": "code",
   "execution_count": 13,
   "id": "0bc4f3a4",
   "metadata": {},
   "outputs": [],
   "source": [
    "# Podemos atribuir a expressão lambda a uma variável\n",
    "max_valor = lambda a,b: a if (a > b) else b"
   ]
  },
  {
   "cell_type": "code",
   "execution_count": 14,
   "id": "e00052d4",
   "metadata": {},
   "outputs": [
    {
     "data": {
      "text/plain": [
       "function"
      ]
     },
     "execution_count": 14,
     "metadata": {},
     "output_type": "execute_result"
    }
   ],
   "source": [
    "type(max_valor)"
   ]
  },
  {
   "cell_type": "code",
   "execution_count": 16,
   "id": "b2f4d6ec",
   "metadata": {},
   "outputs": [
    {
     "data": {
      "text/plain": [
       "47"
      ]
     },
     "execution_count": 16,
     "metadata": {},
     "output_type": "execute_result"
    }
   ],
   "source": [
    "# reduzindo a lista até o valor máximo, através da função criada com expressão lambda\n",
    "reduce(max_valor, lista)"
   ]
  },
  {
   "cell_type": "code",
   "execution_count": null,
   "id": "786098d9",
   "metadata": {},
   "outputs": [],
   "source": []
  }
 ],
 "metadata": {
  "kernelspec": {
   "display_name": "Python 3 (ipykernel)",
   "language": "python",
   "name": "python3"
  },
  "language_info": {
   "codemirror_mode": {
    "name": "ipython",
    "version": 3
   },
   "file_extension": ".py",
   "mimetype": "text/x-python",
   "name": "python",
   "nbconvert_exporter": "python",
   "pygments_lexer": "ipython3",
   "version": "3.11.5"
  }
 },
 "nbformat": 4,
 "nbformat_minor": 5
}
