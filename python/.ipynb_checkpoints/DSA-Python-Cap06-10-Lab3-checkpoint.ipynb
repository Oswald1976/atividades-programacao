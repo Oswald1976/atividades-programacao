{
 "cells": [
  {
   "cell_type": "markdown",
   "id": "d4a993a0",
   "metadata": {},
   "source": [
    "# Data Science Academy"
   ]
  },
  {
   "cell_type": "markdown",
   "id": "2c1ab02e",
   "metadata": {},
   "source": [
    "## Fundamentos de Linguagem Python para Análise de Dados e Data Science"
   ]
  },
  {
   "cell_type": "markdown",
   "id": "bb16307b",
   "metadata": {},
   "source": [
    "### Lab 3 - Trabalhando com Expressões Regulares em Python com ChatGPT"
   ]
  },
  {
   "cell_type": "markdown",
   "id": "5b59f47c",
   "metadata": {},
   "source": [
    "## Expressões Regulares"
   ]
  },
  {
   "cell_type": "markdown",
   "id": "fd931665",
   "metadata": {},
   "source": [
    "Expressões regulares são padrões usados para combinar ou encontrar ocorrências de sequências de caracteres em uma string. Em Python, expressões regulares são geralmente usadas para manipular strings e realizar tarefas como validação de dados, extração de informações de strings e subistituição de texto."
   ]
  },
  {
   "cell_type": "code",
   "execution_count": 1,
   "id": "9c483306",
   "metadata": {},
   "outputs": [],
   "source": [
    "import re"
   ]
  },
  {
   "cell_type": "code",
   "execution_count": 2,
   "id": "6590845e",
   "metadata": {},
   "outputs": [],
   "source": [
    "texto = 'Meu e-mail é exemplo@gmail.com e você pode me contatar em outro_email@yahoo.com.'"
   ]
  },
  {
   "cell_type": "code",
   "execution_count": 3,
   "id": "4360ec99",
   "metadata": {},
   "outputs": [],
   "source": [
    "# expressão regular para contar quantas vezes o caracter arroba aparece no texto\n",
    "resultado = len(re.findall('@', texto))"
   ]
  },
  {
   "cell_type": "code",
   "execution_count": 4,
   "id": "3e3b77f4",
   "metadata": {},
   "outputs": [
    {
     "name": "stdout",
     "output_type": "stream",
     "text": [
      "2\n"
     ]
    }
   ],
   "source": [
    "print(resultado)"
   ]
  },
  {
   "cell_type": "code",
   "execution_count": 5,
   "id": "5eefcd42",
   "metadata": {},
   "outputs": [],
   "source": [
    "# Expressão regular para extrair a palavra que aparece após a palavra \"você\" em um texto\n",
    "resultado = re.findall(r'você (\\w+)', texto)"
   ]
  },
  {
   "cell_type": "code",
   "execution_count": 6,
   "id": "193b6f97",
   "metadata": {},
   "outputs": [
    {
     "name": "stdout",
     "output_type": "stream",
     "text": [
      "A palavra após \"você\" é : pode\n"
     ]
    }
   ],
   "source": [
    "print('A palavra após \"você\" é :', resultado[0])"
   ]
  },
  {
   "cell_type": "markdown",
   "id": "7f236bae",
   "metadata": {},
   "source": [
    "Nota : O r antes da string que representa a expressão regular em Python é usado para indicar que a string é uma string literal raw. Isso significa que as barras invertidas não sao caracteres de escape, mas são incluídas na expressão regular como parte do padrão."
   ]
  },
  {
   "cell_type": "code",
   "execution_count": 7,
   "id": "a67ae5e8",
   "metadata": {},
   "outputs": [],
   "source": [
    "# Expressão regular para extrair endereços de e-mail de uma string\n",
    "emails = re.findall(r'\\b[A-Za-z0-9._%+-]+@[A-Za-z0-9._%+-]+\\.[A-Z|a-z]{2,}\\b', texto)"
   ]
  },
  {
   "cell_type": "code",
   "execution_count": 8,
   "id": "3efd7367",
   "metadata": {},
   "outputs": [
    {
     "name": "stdout",
     "output_type": "stream",
     "text": [
      "['exemplo@gmail.com', 'outro_email@yahoo.com']\n"
     ]
    }
   ],
   "source": [
    "print(emails)"
   ]
  },
  {
   "cell_type": "code",
   "execution_count": 9,
   "id": "53532b62",
   "metadata": {},
   "outputs": [],
   "source": [
    "text = 'O aluno estava incrivelmente perdido, mas encontrou a DSA e rapidamente começou a aprender'"
   ]
  },
  {
   "cell_type": "code",
   "execution_count": null,
   "id": "95a41776",
   "metadata": {},
   "outputs": [],
   "source": []
  },
  {
   "cell_type": "code",
   "execution_count": 10,
   "id": "a3f94b6b",
   "metadata": {},
   "outputs": [
    {
     "name": "stdout",
     "output_type": "stream",
     "text": [
      "15-28: incrivelmente\n",
      "60-71: rapidamente\n"
     ]
    }
   ],
   "source": [
    "# extraindo os advérbios da frase\n",
    "for m in re.finditer(r\"\\w+mente\\b\", text):\n",
    "    print(\"%02d-%02d: %s\" % (m.start(), m.end(), m.group(0)))"
   ]
  },
  {
   "cell_type": "markdown",
   "id": "a1c22d51",
   "metadata": {},
   "source": [
    "## REGEX com ChatGPT\n",
    "\n",
    "Música : Tempo Perdido\n",
    "\n",
    "Legião Urbana"
   ]
  },
  {
   "cell_type": "code",
   "execution_count": 1,
   "id": "0e3a286a",
   "metadata": {},
   "outputs": [],
   "source": [
    "# Variável do tipo String\n",
    "musica = \"\"\"\n",
    "Todos os dias quando acordo\n",
    "Não tenho mais\n",
    "O tempo que passou\n",
    "Mas tenho muito tempo\n",
    "Temos todo o tempo do mundo\n",
    "Todos os dias\n",
    "Antes de dormir\n",
    "Lembro e esqueço\n",
    "Como foi o dia\n",
    "Sempre em frente\n",
    "Não temos tempo a perder\n",
    "Nosso suor sagrado\n",
    "É bem mais belo\n",
    "Que esse sangue amargo\n",
    "E tão sério\n",
    "E selvagem! Selvagem!\n",
    "Selvagem!\n",
    "Veja o sol\n",
    "Dessa manhã tão cinza\n",
    "A tempestade que chega\n",
    "É da cor dos teus olhos\n",
    "Castanhos\n",
    "Então me abraça forte\n",
    "E diz mais uma vez\n",
    "Que já estamos\n",
    "Distantes de tudo\n",
    "Temos nosso próprio tempo\n",
    "Temos nosso próprio tempo\n",
    "Temos nosso próprio tempo\n",
    "Não tenho medo do escuro\n",
    "Mas deixe as luzes\n",
    "Acesas agora\n",
    "O que foi escondido\n",
    "É o que se escondeu\n",
    "E o que foi prometido\n",
    "Ninguém prometeu\n",
    "Nem foi tempo perdido\n",
    "Somos tão jovens\n",
    "Tão jovens! Tão jovens!\n",
    "\"\"\""
   ]
  },
  {
   "cell_type": "markdown",
   "id": "d677e90f",
   "metadata": {},
   "source": [
    "1 - Crie um REGEX para contar quantas vezes o caracter \"a\" aparece em todo o texto da musica.\n",
    "2 - Crie um REGEX para contar quantas vezes a palavra tempo aparece na musica.\n",
    "3 - Crie um REGEX para extrair as palavras seguidas por exclamação.\n",
    "4 - Crie um REGEX que extrai qualquer palavra cujo antecessor seja a palavra \"esse e o sucessor seja a palavra \"amargo\"\n",
    "5 - Crie um REGEX que retorne as palavras com acento, mas somente os caracteres na palavra que sao anteriores ao caracter com acento"
   ]
  },
  {
   "cell_type": "markdown",
   "id": "392ddcee",
   "metadata": {},
   "source": [
    "# Soluções :"
   ]
  },
  {
   "cell_type": "code",
   "execution_count": 3,
   "id": "97770d96",
   "metadata": {},
   "outputs": [
    {
     "name": "stdout",
     "output_type": "stream",
     "text": [
      "39\n"
     ]
    }
   ],
   "source": [
    "# 1\n",
    "import re\n",
    "resultadoa = len(re.findall('a', musica))\n",
    "print(resultadoa)"
   ]
  },
  {
   "cell_type": "code",
   "execution_count": 4,
   "id": "26d07c93",
   "metadata": {},
   "outputs": [
    {
     "name": "stdout",
     "output_type": "stream",
     "text": [
      "8\n"
     ]
    }
   ],
   "source": [
    "#2\n",
    "import re\n",
    "resultempo = len(re.findall('tempo', musica))\n",
    "print(resultempo)"
   ]
  },
  {
   "cell_type": "code",
   "execution_count": 5,
   "id": "bfa73f34",
   "metadata": {},
   "outputs": [
    {
     "name": "stdout",
     "output_type": "stream",
     "text": [
      "selvagem!\n",
      "Selvagem!\n",
      "Selvagem!\n",
      "jovens!\n",
      "jovens!\n"
     ]
    }
   ],
   "source": [
    "#3\n",
    "import re\n",
    "for m in re.finditer(r\"\\w+!\", musica):\n",
    "    print(m.group(0))"
   ]
  },
  {
   "cell_type": "code",
   "execution_count": 14,
   "id": "6851864c",
   "metadata": {},
   "outputs": [
    {
     "name": "stdout",
     "output_type": "stream",
     "text": [
      "Palavra encontrada entre esse e amargo :  ['sangue']\n"
     ]
    }
   ],
   "source": [
    "#4\n",
    "import re\n",
    "print('Palavra encontrada entre esse e amargo : ', re.findall(r'\\besse\\s(\\w+)\\samargo', musica))\n",
    "# print('Palavra encontrada entre esse e amargo :', resulesse)"
   ]
  },
  {
   "cell_type": "code",
   "execution_count": 10,
   "id": "0f0c92e5",
   "metadata": {},
   "outputs": [
    {
     "name": "stdout",
     "output_type": "stream",
     "text": [
      "As palavras acentuadas são : ['N', 'esque', 'N', 't', 's', 'manh', 't', 'Ent', 'abra', 'j', 'pr', 'pr', 'pr', 'N', 'Ningu', 't', 'T', 'T']\n"
     ]
    }
   ],
   "source": [
    "#5\n",
    "import re\n",
    "# empressão regular usada para retornaras palavras com acento, mas somente os caracteres na palavra que sao anteriores ao caracter com acento.\n",
    "regex = r'(\\w+)[\\u00C0-\\u017F]+'\n",
    "print(\"As palavras acentuadas são :\", re.findall(regex, musica))"
   ]
  },
  {
   "cell_type": "code",
   "execution_count": null,
   "id": "5e7f1169",
   "metadata": {},
   "outputs": [],
   "source": []
  }
 ],
 "metadata": {
  "kernelspec": {
   "display_name": "Python 3 (ipykernel)",
   "language": "python",
   "name": "python3"
  },
  "language_info": {
   "codemirror_mode": {
    "name": "ipython",
    "version": 3
   },
   "file_extension": ".py",
   "mimetype": "text/x-python",
   "name": "python",
   "nbconvert_exporter": "python",
   "pygments_lexer": "ipython3",
   "version": "3.11.5"
  }
 },
 "nbformat": 4,
 "nbformat_minor": 5
}
